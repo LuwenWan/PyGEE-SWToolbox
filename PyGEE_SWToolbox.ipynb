{
 "cells": [
  {
   "cell_type": "markdown",
   "id": "white-rough",
   "metadata": {},
   "source": [
    "## Authenticate Google Earth Engine Account"
   ]
  },
  {
   "cell_type": "code",
   "execution_count": null,
   "metadata": {},
   "outputs": [],
   "source": [
    "# pip install earthengine-api"
   ]
  },
  {
   "cell_type": "code",
   "execution_count": 1,
   "id": "parental-hughes",
   "metadata": {},
   "outputs": [],
   "source": [
    "import ee\n",
    "# Initialize the GEE API\n",
    "try:\n",
    "    ee.Initialize()\n",
    "except Exception as e:\n",
    "    ee.Authenticate()\n",
    "    ee.Initialize()"
   ]
  },
  {
   "cell_type": "markdown",
   "id": "frequent-baking",
   "metadata": {},
   "source": [
    "## Toolbox"
   ]
  },
  {
   "cell_type": "code",
   "execution_count": null,
   "metadata": {},
   "outputs": [],
   "source": [
    "# pip install geemap --no-warn-script-location"
   ]
  },
  {
   "cell_type": "code",
   "execution_count": null,
   "metadata": {},
   "outputs": [],
   "source": [
    "# import geemap"
   ]
  },
  {
   "cell_type": "code",
   "execution_count": null,
   "metadata": {},
   "outputs": [],
   "source": [
    "# pip install eemont"
   ]
  },
  {
   "cell_type": "code",
   "execution_count": null,
   "metadata": {},
   "outputs": [],
   "source": [
    "# pip install geetools"
   ]
  },
  {
   "cell_type": "code",
   "execution_count": null,
   "metadata": {},
   "outputs": [],
   "source": [
    "# pip install hydrafloods"
   ]
  },
  {
   "cell_type": "code",
   "execution_count": 2,
   "metadata": {},
   "outputs": [
    {
     "data": {
      "application/vnd.jupyter.widget-view+json": {
       "model_id": "db12daca53a74bbbb02b263b2f91b8cd",
       "version_major": 2,
       "version_minor": 0
      },
      "text/plain": [
       "VBox(children=(HTML(value=\"<h3 class= 'text-center'><font color = 'blue'>Python-GEE Surface Water Analysis Too…"
      ]
     },
     "metadata": {},
     "output_type": "display_data"
    },
    {
     "data": {
      "application/vnd.jupyter.widget-view+json": {
       "model_id": "5acfaf214d1647e5a4fd44b921fafadc",
       "version_major": 2,
       "version_minor": 0
      },
      "text/plain": [
       "FigureWidget({\n",
       "    'data': [],\n",
       "    'layout': {'font': {'family': 'Arial'},\n",
       "               'template': '...',\n",
       "               'title': {'font': {'family': 'Arial', 'size': 24},\n",
       "                         'text': '<b>Surface Water Area Hydrograph<b>',\n",
       "                         'x': 0.5,\n",
       "                         'y': 0.9},\n",
       "               'xaxis': {'linecolor': 'Black', 'title': {'text': '<b>Date<b>'}},\n",
       "               'yaxis': {'linecolor': 'Black', 'title': {'text': 'Area (sq m)'}}}\n",
       "})"
      ]
     },
     "metadata": {},
     "output_type": "display_data"
    },
    {
     "data": {
      "application/vnd.jupyter.widget-view+json": {
       "model_id": "de6f5636f18a4e3cbe10225d5a5cec65",
       "version_major": 2,
       "version_minor": 0
      },
      "text/plain": [
       "Output()"
      ]
     },
     "metadata": {},
     "output_type": "display_data"
    },
    {
     "data": {
      "text/plain": [
       "<PyGEE_SWToolbox.Toolbox at 0x1eac98dd910>"
      ]
     },
     "execution_count": 2,
     "metadata": {},
     "output_type": "execute_result"
    }
   ],
   "source": [
    "from PyGEE_SWToolbox import Toolbox\n",
    "Toolbox()"
   ]
  },
  {
   "cell_type": "code",
   "execution_count": null,
   "metadata": {},
   "outputs": [],
   "source": [
    "# pip install pycrs\n",
    "# import pycrs\n"
   ]
  }
 ],
 "metadata": {
  "kernelspec": {
   "display_name": "Python 3 (ipykernel)",
   "language": "python",
   "name": "python3"
  },
  "language_info": {
   "codemirror_mode": {
    "name": "ipython",
    "version": 3
   },
   "file_extension": ".py",
   "mimetype": "text/x-python",
   "name": "python",
   "nbconvert_exporter": "python",
   "pygments_lexer": "ipython3",
   "version": "3.9.16"
  }
 },
 "nbformat": 4,
 "nbformat_minor": 5
}
